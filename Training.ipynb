{
 "cells": [
  {
   "cell_type": "code",
   "execution_count": null,
   "id": "10803af1",
   "metadata": {},
   "outputs": [],
   "source": [
    "%env riot_api_key='MY_VALUE'"
   ]
  },
  {
   "cell_type": "code",
   "execution_count": 14,
   "id": "7b049cc8",
   "metadata": {},
   "outputs": [
    {
     "ename": "Exception",
     "evalue": "Riot API key does not exist. Please set a key as riot_api_key = your_key in environment variables",
     "output_type": "error",
     "traceback": [
      "\u001b[0;31m---------------------------------------------------------------------------\u001b[0m",
      "\u001b[0;31mException\u001b[0m                                 Traceback (most recent call last)",
      "Input \u001b[0;32mIn [14]\u001b[0m, in \u001b[0;36m<module>\u001b[0;34m\u001b[0m\n\u001b[1;32m      1\u001b[0m \u001b[38;5;28;01mimport\u001b[39;00m \u001b[38;5;21;01mpandas\u001b[39;00m \u001b[38;5;28;01mas\u001b[39;00m \u001b[38;5;21;01mpd\u001b[39;00m\n\u001b[0;32m----> 2\u001b[0m \u001b[38;5;28;01mfrom\u001b[39;00m \u001b[38;5;21;01mclient\u001b[39;00m \u001b[38;5;28;01mimport\u001b[39;00m riot_client\n",
      "File \u001b[0;32m~/workspace/aram-predictor/client/riot_client.py:9\u001b[0m, in \u001b[0;36m<module>\u001b[0;34m\u001b[0m\n\u001b[1;32m      7\u001b[0m \u001b[38;5;66;03m#checks if riot_api_key exists in environment variables\u001b[39;00m\n\u001b[1;32m      8\u001b[0m \u001b[38;5;28;01mif\u001b[39;00m (\u001b[38;5;124m\"\u001b[39m\u001b[38;5;124mriot_api_key\u001b[39m\u001b[38;5;124m\"\u001b[39m \u001b[38;5;129;01mnot\u001b[39;00m \u001b[38;5;129;01min\u001b[39;00m os\u001b[38;5;241m.\u001b[39menviron):\n\u001b[0;32m----> 9\u001b[0m \t\u001b[38;5;28;01mraise\u001b[39;00m \u001b[38;5;167;01mException\u001b[39;00m(\u001b[38;5;124m\"\u001b[39m\u001b[38;5;124mRiot API key does not exist. Please set a key as riot_api_key = your_key in environment variables\u001b[39m\u001b[38;5;124m\"\u001b[39m)\n\u001b[1;32m     10\u001b[0m \u001b[38;5;28;01melse\u001b[39;00m:\n\u001b[1;32m     11\u001b[0m \tdev_key \u001b[38;5;241m=\u001b[39m os\u001b[38;5;241m.\u001b[39menviron[\u001b[38;5;124m\"\u001b[39m\u001b[38;5;124mriot_api_key\u001b[39m\u001b[38;5;124m\"\u001b[39m]\n",
      "\u001b[0;31mException\u001b[0m: Riot API key does not exist. Please set a key as riot_api_key = your_key in environment variables"
     ]
    }
   ],
   "source": [
    "import pandas as pd\n",
    "from client import riot_client"
   ]
  },
  {
   "cell_type": "code",
   "execution_count": 22,
   "id": "28fc6d04",
   "metadata": {},
   "outputs": [
    {
     "name": "stdout",
     "output_type": "stream",
     "text": [
      "{'t1_1': 0, 't1_10': 0, 't1_101': 0, 't1_102': 0, 't1_103': 0, 't1_104': 0, 't1_105': 0, 't1_106': 0, 't1_107': 0, 't1_11': 0, 't1_110': 0, 't1_111': 0, 't1_112': 0, 't1_113': 0, 't1_114': 0, 't1_115': 0, 't1_117': 0, 't1_119': 0, 't1_12': 0, 't1_120': 0, 't1_121': 0, 't1_122': 0, 't1_126': 0, 't1_127': 0, 't1_13': 0, 't1_131': 0, 't1_133': 0, 't1_134': 0, 't1_136': 0, 't1_14': 0, 't1_141': 0, 't1_142': 0, 't1_143': 0, 't1_145': 0, 't1_147': 0, 't1_15': 0, 't1_150': 0, 't1_154': 0, 't1_157': 0, 't1_16': 0, 't1_161': 0, 't1_163': 0, 't1_164': 0, 't1_166': 0, 't1_17': 0, 't1_18': 0, 't1_19': 0, 't1_2': 0, 't1_20': 0, 't1_201': 0, 't1_202': 0, 't1_203': 0, 't1_21': 0, 't1_22': 0, 't1_221': 0, 't1_222': 0, 't1_223': 0, 't1_23': 0, 't1_234': 0, 't1_235': 0, 't1_236': 0, 't1_238': 0, 't1_24': 0, 't1_240': 0, 't1_245': 0, 't1_246': 0, 't1_25': 0, 't1_254': 0, 't1_26': 0, 't1_266': 0, 't1_267': 0, 't1_268': 0, 't1_27': 0, 't1_28': 0, 't1_29': 0, 't1_3': 0, 't1_30': 0, 't1_31': 0, 't1_32': 0, 't1_33': 0, 't1_34': 0, 't1_35': 0, 't1_350': 0, 't1_36': 0, 't1_360': 0, 't1_37': 0, 't1_38': 0, 't1_39': 0, 't1_4': 0, 't1_40': 0, 't1_41': 0, 't1_412': 0, 't1_42': 0, 't1_420': 0, 't1_421': 0, 't1_427': 0, 't1_429': 0, 't1_43': 0, 't1_432': 0, 't1_44': 0, 't1_45': 0, 't1_48': 0, 't1_497': 0, 't1_498': 0, 't1_5': 0, 't1_50': 0, 't1_51': 0, 't1_516': 0, 't1_517': 0, 't1_518': 0, 't1_523': 0, 't1_526': 0, 't1_53': 0, 't1_54': 0, 't1_55': 0, 't1_555': 0, 't1_56': 0, 't1_57': 0, 't1_58': 0, 't1_59': 0, 't1_6': 0, 't1_60': 0, 't1_61': 0, 't1_62': 0, 't1_63': 0, 't1_64': 0, 't1_67': 0, 't1_68': 0, 't1_69': 0, 't1_7': 0, 't1_711': 0, 't1_72': 0, 't1_74': 0, 't1_75': 0, 't1_76': 0, 't1_77': 0, 't1_777': 0, 't1_78': 0, 't1_79': 0, 't1_8': 0, 't1_80': 0, 't1_81': 0, 't1_82': 0, 't1_83': 0, 't1_84': 0, 't1_85': 0, 't1_86': 0, 't1_875': 0, 't1_876': 0, 't1_887': 0, 't1_888': 0, 't1_89': 0, 't1_9': 0, 't1_90': 0, 't1_91': 0, 't1_92': 0, 't1_96': 0, 't1_98': 0, 't1_99': 0, 't2_1': 0, 't2_10': 0, 't2_101': 0, 't2_102': 0, 't2_103': 0, 't2_104': 0, 't2_105': 0, 't2_106': 0, 't2_107': 0, 't2_11': 0, 't2_110': 0, 't2_111': 0, 't2_112': 0, 't2_113': 0, 't2_114': 0, 't2_115': 0, 't2_117': 0, 't2_119': 0, 't2_12': 0, 't2_120': 0, 't2_121': 0, 't2_122': 0, 't2_126': 0, 't2_127': 0, 't2_13': 0, 't2_131': 0, 't2_133': 0, 't2_134': 0, 't2_136': 0, 't2_14': 0, 't2_141': 0, 't2_142': 0, 't2_143': 0, 't2_145': 0, 't2_147': 0, 't2_15': 0, 't2_150': 0, 't2_154': 0, 't2_157': 0, 't2_16': 0, 't2_161': 0, 't2_163': 0, 't2_164': 0, 't2_166': 0, 't2_17': 0, 't2_18': 0, 't2_19': 0, 't2_2': 0, 't2_20': 0, 't2_201': 0, 't2_202': 0, 't2_203': 0, 't2_21': 0, 't2_22': 0, 't2_221': 0, 't2_222': 0, 't2_223': 0, 't2_23': 0, 't2_234': 0, 't2_235': 0, 't2_236': 0, 't2_238': 0, 't2_24': 0, 't2_240': 0, 't2_245': 0, 't2_246': 0, 't2_25': 0, 't2_254': 0, 't2_26': 0, 't2_266': 0, 't2_267': 0, 't2_268': 0, 't2_27': 0, 't2_28': 0, 't2_29': 0, 't2_3': 0, 't2_30': 0, 't2_31': 0, 't2_32': 0, 't2_33': 0, 't2_34': 0, 't2_35': 0, 't2_350': 0, 't2_36': 0, 't2_360': 0, 't2_37': 0, 't2_38': 0, 't2_39': 0, 't2_4': 0, 't2_40': 0, 't2_41': 0, 't2_412': 0, 't2_42': 0, 't2_420': 0, 't2_421': 0, 't2_427': 0, 't2_429': 0, 't2_43': 0, 't2_432': 0, 't2_44': 0, 't2_45': 0, 't2_48': 0, 't2_497': 0, 't2_498': 0, 't2_5': 0, 't2_50': 0, 't2_51': 0, 't2_516': 0, 't2_517': 0, 't2_518': 0, 't2_523': 0, 't2_526': 0, 't2_53': 0, 't2_54': 0, 't2_55': 0, 't2_555': 0, 't2_56': 0, 't2_57': 0, 't2_58': 0, 't2_59': 0, 't2_6': 0, 't2_60': 0, 't2_61': 0, 't2_62': 0, 't2_63': 0, 't2_64': 0, 't2_67': 0, 't2_68': 0, 't2_69': 0, 't2_7': 0, 't2_711': 0, 't2_72': 0, 't2_74': 0, 't2_75': 0, 't2_76': 0, 't2_77': 0, 't2_777': 0, 't2_78': 0, 't2_79': 0, 't2_8': 0, 't2_80': 0, 't2_81': 0, 't2_82': 0, 't2_83': 0, 't2_84': 0, 't2_85': 0, 't2_86': 0, 't2_875': 0, 't2_876': 0, 't2_887': 0, 't2_888': 0, 't2_89': 0, 't2_9': 0, 't2_90': 0, 't2_91': 0, 't2_92': 0, 't2_96': 0, 't2_98': 0, 't2_99': 0}\n"
     ]
    }
   ],
   "source": [
    "# get all champion ids\n",
    "champ_ids = sorted(riot_client.get_all_champions_ids('12.6.1'))\n",
    "features = [\"t1_{}\".format(c_id) for c_id in champ_ids] + [\"t2_{}\".format(c_id) for c_id in champ_ids]\n",
    "feature_dict = dict.fromkeys(features, 0)\n"
   ]
  },
  {
   "cell_type": "code",
   "execution_count": 28,
   "id": "71d0fd4b",
   "metadata": {},
   "outputs": [
    {
     "name": "stdout",
     "output_type": "stream",
     "text": [
      "490    100\n",
      "491    100\n",
      "492    100\n",
      "493    100\n",
      "494    100\n",
      "495    200\n",
      "496    200\n",
      "497    200\n",
      "498    200\n",
      "499    200\n",
      "Name: teamId, dtype: int64\n"
     ]
    },
    {
     "ename": "TypeError",
     "evalue": "cannot convert the series to <class 'int'>",
     "output_type": "error",
     "traceback": [
      "\u001b[0;31m---------------------------------------------------------------------------\u001b[0m",
      "\u001b[0;31mTypeError\u001b[0m                                 Traceback (most recent call last)",
      "Input \u001b[0;32mIn [28]\u001b[0m, in \u001b[0;36m<module>\u001b[0;34m\u001b[0m\n\u001b[1;32m      5\u001b[0m \u001b[38;5;28;01mfor\u001b[39;00m m_id, frame \u001b[38;5;129;01min\u001b[39;00m grouped:\n\u001b[1;32m      6\u001b[0m     \u001b[38;5;28mprint\u001b[39m(frame[\u001b[38;5;124m'\u001b[39m\u001b[38;5;124mteamId\u001b[39m\u001b[38;5;124m'\u001b[39m])\n\u001b[0;32m----> 7\u001b[0m     team \u001b[38;5;241m=\u001b[39m \u001b[38;5;124m\"\u001b[39m\u001b[38;5;124mt\u001b[39m\u001b[38;5;132;01m{}\u001b[39;00m\u001b[38;5;124m\"\u001b[39m\u001b[38;5;241m.\u001b[39mformat(\u001b[38;5;28;43mint\u001b[39;49m\u001b[43m(\u001b[49m\u001b[43mframe\u001b[49m\u001b[43m[\u001b[49m\u001b[38;5;124;43m'\u001b[39;49m\u001b[38;5;124;43mteamId\u001b[39;49m\u001b[38;5;124;43m'\u001b[39;49m\u001b[43m]\u001b[49m\u001b[38;5;241;43m/\u001b[39;49m\u001b[38;5;241;43m100\u001b[39;49m\u001b[43m)\u001b[49m)\n\u001b[1;32m      8\u001b[0m     champ_team_feature \u001b[38;5;241m=\u001b[39m \u001b[38;5;124m\"\u001b[39m\u001b[38;5;132;01m{}\u001b[39;00m\u001b[38;5;124m_\u001b[39m\u001b[38;5;132;01m{}\u001b[39;00m\u001b[38;5;124m\"\u001b[39m\u001b[38;5;241m.\u001b[39mformat(team, frame[\u001b[38;5;124m'\u001b[39m\u001b[38;5;124mchampionId\u001b[39m\u001b[38;5;124m'\u001b[39m])\n\u001b[1;32m      9\u001b[0m     \u001b[38;5;28mprint\u001b[39m(champ_team_feature)\n",
      "File \u001b[0;32m/usr/local/lib/python3.9/site-packages/pandas/core/series.py:185\u001b[0m, in \u001b[0;36m_coerce_method.<locals>.wrapper\u001b[0;34m(self)\u001b[0m\n\u001b[1;32m    183\u001b[0m \u001b[38;5;28;01mif\u001b[39;00m \u001b[38;5;28mlen\u001b[39m(\u001b[38;5;28mself\u001b[39m) \u001b[38;5;241m==\u001b[39m \u001b[38;5;241m1\u001b[39m:\n\u001b[1;32m    184\u001b[0m     \u001b[38;5;28;01mreturn\u001b[39;00m converter(\u001b[38;5;28mself\u001b[39m\u001b[38;5;241m.\u001b[39miloc[\u001b[38;5;241m0\u001b[39m])\n\u001b[0;32m--> 185\u001b[0m \u001b[38;5;28;01mraise\u001b[39;00m \u001b[38;5;167;01mTypeError\u001b[39;00m(\u001b[38;5;124mf\u001b[39m\u001b[38;5;124m\"\u001b[39m\u001b[38;5;124mcannot convert the series to \u001b[39m\u001b[38;5;132;01m{\u001b[39;00mconverter\u001b[38;5;132;01m}\u001b[39;00m\u001b[38;5;124m\"\u001b[39m)\n",
      "\u001b[0;31mTypeError\u001b[0m: cannot convert the series to <class 'int'>"
     ]
    }
   ],
   "source": [
    "df = pd.read_csv(\"client/match_50.csv\")[['matchId', 'championId', 'teamId']]\n",
    "df.head()\n",
    "grouped = df.groupby('matchId').agg(lambda x: ','.join(x))\n",
    "\n",
    "for m_id, frame in grouped:\n",
    "    print(frame['teamId'])\n",
    "    team = \"t{}\".format(int(frame['teamId']/100))\n",
    "    champ_team_feature = \"{}_{}\".format(team, frame['championId'])\n",
    "    print(champ_team_feature)"
   ]
  },
  {
   "cell_type": "code",
   "execution_count": null,
   "id": "b537c785",
   "metadata": {},
   "outputs": [],
   "source": []
  }
 ],
 "metadata": {
  "kernelspec": {
   "display_name": "Python 3 (ipykernel)",
   "language": "python",
   "name": "python3"
  },
  "language_info": {
   "codemirror_mode": {
    "name": "ipython",
    "version": 3
   },
   "file_extension": ".py",
   "mimetype": "text/x-python",
   "name": "python",
   "nbconvert_exporter": "python",
   "pygments_lexer": "ipython3",
   "version": "3.9.9"
  }
 },
 "nbformat": 4,
 "nbformat_minor": 5
}
