{
 "cells": [
  {
   "cell_type": "code",
   "execution_count": 36,
   "id": "10803af1",
   "metadata": {},
   "outputs": [
    {
     "name": "stdout",
     "output_type": "stream",
     "text": [
      "env: riot_api_key='RGAPI-6419882b-a659-434c-a7c3-ec2812172d69'\n"
     ]
    }
   ],
   "source": [
    "## Configuration\n",
    "%env riot_api_key='RGAPI-6419882b-a659-434c-a7c3-ec2812172d69'"
   ]
  },
  {
   "cell_type": "code",
   "execution_count": 92,
   "id": "7b049cc8",
   "metadata": {},
   "outputs": [],
   "source": [
    "## Imports\n",
    "import pandas as pd\n",
    "from client import riot_client\n",
    "from sklearn.model_selection import train_test_split\n",
    "from sklearn.linear_model import LogisticRegression\n",
    "from sklearn.metrics import confusion_matrix"
   ]
  },
  {
   "cell_type": "code",
   "execution_count": 73,
   "id": "28fc6d04",
   "metadata": {},
   "outputs": [],
   "source": [
    "# Get all champion ids and create template feature vector\n",
    "champ_ids = sorted(riot_client.get_all_champions_ids('12.6.1'))\n",
    "feature_keys = [\"t1_{}\".format(c_id) for c_id in champ_ids] + [\"t2_{}\".format(c_id) for c_id in champ_ids] + [\"win\"]\n",
    "feature_dict = dict.fromkeys(feature_keys, 0)\n"
   ]
  },
  {
   "cell_type": "code",
   "execution_count": 102,
   "id": "71d0fd4b",
   "metadata": {},
   "outputs": [],
   "source": [
    "# Generate feature vector per match, this will be used as training data.\n",
    "df = pd.read_csv(\"client/match_50.csv\")[['matchId', 'championId', 'teamId', 'win']]\n",
    "df.head()\n",
    "grouped = df.groupby('matchId')\n",
    "\n",
    "\n",
    "features = []\n",
    "\n",
    "for m_id, frame in grouped:\n",
    "    feature_vector = feature_dict.copy()\n",
    "    t1_won = 0\n",
    "    for row_index, row in frame.iterrows():\n",
    "        team = \"t{}\".format(int(row['teamId']/100))\n",
    "        champ_team_feature = \"{}_{}\".format(team, row['championId'])\n",
    "        feature_vector[champ_team_feature] = 1\n",
    "        \n",
    "        current_row_t1_won = 1 if (row['win'] and row['teamId'] == 100) else 0\n",
    "        t1_won = max(current_row_t1_won, t1_won)\n",
    "        \n",
    "    feature_vector['win'] = t1_won\n",
    "    features.append(feature_vector)\n",
    "\n",
    "## Training data/independent variables.\n",
    "feature_df = pd.DataFrame.from_records(features, columns=feature_keys)\n",
    "\n",
    "# Split dataset into training/test datasets.\n",
    "X_train, X_test, y_train, y_test = train_test_split(feature_df[feature_df.columns.drop('win')], feature_df.win, test_size=0.2)  "
   ]
  },
  {
   "cell_type": "code",
   "execution_count": 103,
   "id": "4453d95e",
   "metadata": {},
   "outputs": [
    {
     "data": {
      "text/plain": [
       "LogisticRegression()"
      ]
     },
     "execution_count": 103,
     "metadata": {},
     "output_type": "execute_result"
    }
   ],
   "source": [
    "# Train the model\n",
    "model = LogisticRegression()\n",
    "model.fit(X_train, y_train)"
   ]
  },
  {
   "cell_type": "code",
   "execution_count": 104,
   "id": "20cf510d",
   "metadata": {},
   "outputs": [
    {
     "name": "stdout",
     "output_type": "stream",
     "text": [
      "TP=[2], FP=[2], FN=[2], TN=[4]\n",
      "Precision=[0.5], Recall=[0.5]\n"
     ]
    }
   ],
   "source": [
    "# Predict and generate classification metrics\n",
    "y_prediction = model.predict(X_test)\n",
    "cm = confusion_matrix(y_test, y_prediction)\n",
    "tp, fp, fn, tn = cm[0][0], cm[0][1], cm[1][0], cm[1][1]\n",
    "precision, recall = (float(tp/(tp+fp))), float(tp/(tp+fn))\n",
    "print(\"TP=[{}], FP=[{}], FN=[{}], TN=[{}]\".format(tp, fp, fn, tn))\n",
    "print(\"Precision=[{}], Recall=[{}]\".format(precision, recall))"
   ]
  },
  {
   "cell_type": "code",
   "execution_count": null,
   "id": "a5f0da00",
   "metadata": {},
   "outputs": [],
   "source": []
  }
 ],
 "metadata": {
  "kernelspec": {
   "display_name": "Python 3 (ipykernel)",
   "language": "python",
   "name": "python3"
  },
  "language_info": {
   "codemirror_mode": {
    "name": "ipython",
    "version": 3
   },
   "file_extension": ".py",
   "mimetype": "text/x-python",
   "name": "python",
   "nbconvert_exporter": "python",
   "pygments_lexer": "ipython3",
   "version": "3.9.9"
  }
 },
 "nbformat": 4,
 "nbformat_minor": 5
}
